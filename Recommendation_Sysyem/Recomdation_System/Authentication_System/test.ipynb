{
 "cells": [
  {
   "cell_type": "code",
   "execution_count": null,
   "metadata": {},
   "outputs": [],
   "source": [
    "import unittest\n",
    "from db_factory import DBFactory\n",
    "from user import User\n",
    "import os\n",
    "\n",
    "class TestAuthenticationSystem(unittest.TestCase):\n",
    "    def setUp(self):\n",
    "        self.db = DBFactory()\n",
    "        self.db.cursor.execute(\"DELETE FROM Users\")\n",
    "        self.db.conn.commit()\n",
    "\n",
    "    def tearDown(self):\n",
    "        self.db.close()\n",
    "\n",
    "    def test_register_user(self):\n",
    "        username = \"testuser\"\n",
    "        password = \"testpass\"\n",
    "        role = \"Employee\"\n",
    "\n",
    "        self.db.register_user(username, password, role)\n",
    "        user_data = self.db.get_user_by_username(username)\n",
    "        \n",
    "        self.assertIsNotNone(user_data)\n",
    "        self.assertEqual(user_data[1], username)\n",
    "        self.assertEqual(user_data[3], role)\n",
    "\n",
    "    def test_login_user(self):\n",
    "        username = \"testuser\"\n",
    "        password = \"testpass\"\n",
    "        role = \"Employee\"\n",
    "\n",
    "        self.db.register_user(username, password, role)\n",
    "        user_data = self.db.get_user_by_username(username)\n",
    "        user = User.from_db(user_data)\n",
    "\n",
    "        self.assertTrue(User.check_password(password, user.password_hash))\n",
    "        self.assertFalse(User.check_password(\"wrongpass\", user.password_hash))\n",
    "\n",
    "if __name__ == '__main__':\n",
    "    unittest.main()\n"
   ]
  }
 ],
 "metadata": {
  "kernelspec": {
   "display_name": "base",
   "language": "python",
   "name": "python3"
  },
  "language_info": {
   "codemirror_mode": {
    "name": "ipython",
    "version": 3
   },
   "file_extension": ".py",
   "mimetype": "text/x-python",
   "name": "python",
   "nbconvert_exporter": "python",
   "pygments_lexer": "ipython3",
   "version": "3.9.12"
  }
 },
 "nbformat": 4,
 "nbformat_minor": 2
}
